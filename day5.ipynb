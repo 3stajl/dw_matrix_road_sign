{
  "nbformat": 4,
  "nbformat_minor": 0,
  "metadata": {
    "colab": {
      "name": "day5.ipynb",
      "provenance": [],
      "mount_file_id": "1j_ZPy4ol16zKkIyBOoxop_SWQudm67cA",
      "authorship_tag": "ABX9TyPJgqCAIOERSHQXonmtHYeF",
      "include_colab_link": true
    },
    "kernelspec": {
      "name": "python3",
      "display_name": "Python 3"
    },
    "accelerator": "GPU"
  },
  "cells": [
    {
      "cell_type": "markdown",
      "metadata": {
        "id": "view-in-github",
        "colab_type": "text"
      },
      "source": [
        "<a href=\"https://colab.research.google.com/github/3stajl/dw_matrix_road_sign/blob/master/day5.ipynb\" target=\"_parent\"><img src=\"https://colab.research.google.com/assets/colab-badge.svg\" alt=\"Open In Colab\"/></a>"
      ]
    },
    {
      "cell_type": "code",
      "metadata": {
        "id": "Ms0_lNDtnsRs",
        "colab_type": "code",
        "colab": {
          "base_uri": "https://localhost:8080/",
          "height": 170
        },
        "outputId": "ed7a5338-0b69-4bee-c988-6a148640d05f"
      },
      "source": [
        "!pip install hyperopt"
      ],
      "execution_count": 1,
      "outputs": [
        {
          "output_type": "stream",
          "text": [
            "Requirement already satisfied: hyperopt in /usr/local/lib/python3.6/dist-packages (0.1.2)\n",
            "Requirement already satisfied: six in /usr/local/lib/python3.6/dist-packages (from hyperopt) (1.12.0)\n",
            "Requirement already satisfied: scipy in /usr/local/lib/python3.6/dist-packages (from hyperopt) (1.4.1)\n",
            "Requirement already satisfied: networkx in /usr/local/lib/python3.6/dist-packages (from hyperopt) (2.4)\n",
            "Requirement already satisfied: numpy in /usr/local/lib/python3.6/dist-packages (from hyperopt) (1.18.2)\n",
            "Requirement already satisfied: tqdm in /usr/local/lib/python3.6/dist-packages (from hyperopt) (4.38.0)\n",
            "Requirement already satisfied: pymongo in /usr/local/lib/python3.6/dist-packages (from hyperopt) (3.10.1)\n",
            "Requirement already satisfied: future in /usr/local/lib/python3.6/dist-packages (from hyperopt) (0.16.0)\n",
            "Requirement already satisfied: decorator>=4.3.0 in /usr/local/lib/python3.6/dist-packages (from networkx->hyperopt) (4.4.2)\n"
          ],
          "name": "stdout"
        }
      ]
    },
    {
      "cell_type": "code",
      "metadata": {
        "id": "xPLs9gnJoZZ7",
        "colab_type": "code",
        "colab": {
          "base_uri": "https://localhost:8080/",
          "height": 51
        },
        "outputId": "84883379-af14-4d6a-f0fd-c0c9a72616bc"
      },
      "source": [
        "import pandas as pd\n",
        "import numpy as np\n",
        "import os\n",
        "import datetime\n",
        "\n",
        "import tensorflow as tf\n",
        "from tensorflow.keras.models import Sequential\n",
        "from tensorflow.keras.layers import Conv2D, MaxPool2D, Dense, Flatten, Dropout\n",
        "from tensorflow.keras.utils import to_categorical\n",
        "\n",
        "%load_ext tensorboard\n",
        "\n",
        "import matplotlib.pyplot as plt\n",
        "from skimage import color, exposure\n",
        "\n",
        "from sklearn.metrics import  accuracy_score\n",
        "\n",
        "from hyperopt import hp, STATUS_OK, tpe, Trials, fmin"
      ],
      "execution_count": 16,
      "outputs": [
        {
          "output_type": "stream",
          "text": [
            "The tensorboard extension is already loaded. To reload it, use:\n",
            "  %reload_ext tensorboard\n"
          ],
          "name": "stdout"
        }
      ]
    },
    {
      "cell_type": "code",
      "metadata": {
        "id": "AOTWjig3ojaw",
        "colab_type": "code",
        "colab": {
          "base_uri": "https://localhost:8080/",
          "height": 34
        },
        "outputId": "160067be-d112-4202-93f2-d282bf5c5680"
      },
      "source": [
        "cd '/content/drive/My Drive/Colab Notebooks/matrix/matrix_three/dw_matrix_road_sign'"
      ],
      "execution_count": 3,
      "outputs": [
        {
          "output_type": "stream",
          "text": [
            "/content/drive/My Drive/Colab Notebooks/matrix/matrix_three/dw_matrix_road_sign\n"
          ],
          "name": "stdout"
        }
      ]
    },
    {
      "cell_type": "code",
      "metadata": {
        "id": "lkx2S5zZooXA",
        "colab_type": "code",
        "colab": {}
      },
      "source": [
        "train = pd.read_pickle('data/train.p')\n",
        "test = pd.read_pickle('data/test.p')\n",
        "\n",
        "X_train, y_train = train['features'], train['labels']\n",
        "X_test, y_test = test['features'], test['labels']"
      ],
      "execution_count": 0,
      "outputs": []
    },
    {
      "cell_type": "code",
      "metadata": {
        "id": "OR8M9Aapop5A",
        "colab_type": "code",
        "colab": {}
      },
      "source": [
        "if y_train.ndim == 1: y_train = to_categorical(y_train)\n",
        "if y_test.ndim == 1: y_test = to_categorical(y_test)"
      ],
      "execution_count": 0,
      "outputs": []
    },
    {
      "cell_type": "code",
      "metadata": {
        "id": "axxDpP6GosvI",
        "colab_type": "code",
        "colab": {}
      },
      "source": [
        "input_shape = X_train.shape[1:]\n",
        "num_classes = y_train.shape[1]"
      ],
      "execution_count": 0,
      "outputs": []
    },
    {
      "cell_type": "code",
      "metadata": {
        "id": "zLC5Zu4LovEv",
        "colab_type": "code",
        "colab": {}
      },
      "source": [
        "def train_model(model, X_train, y_train, params_fit={}):\n",
        "    model.compile(loss='categorical_crossentropy', optimizer='Adam', metrics=['accuracy'])\n",
        "\n",
        "    logdir = os.path.join(\"logs\", datetime.datetime.now().strftime(\"%Y%m%d-%H%M%S\"))\n",
        "    tensorboard_callback = tf.keras.callbacks.TensorBoard(logdir, histogram_freq=1)\n",
        "\n",
        "    model.fit(\n",
        "        X_train,\n",
        "        y_train,\n",
        "        batch_size = params_fit.get('batch_size',128),\n",
        "        epochs = params_fit.get('epochs',5),\n",
        "        verbose= params_fit.get('verbose',1),\n",
        "        validation_data= params_fit.get('validation_data',(X_train, y_train)),\n",
        "        callbacks= [tensorboard_callback]\n",
        "        \n",
        "    )\n",
        "    return model\n",
        "\n",
        "\n",
        "def predict(model_trained, X_test, y_test, scoring=accuracy_score):\n",
        "\n",
        "  y_test_norm = np.argmax(y_test, axis =1)\n",
        "\n",
        "  y_pred_prob = model_trained.predict(X_test)\n",
        "  y_pred = np.argmax(y_pred_prob, axis=1)\n",
        "\n",
        "  return scoring(y_test_norm, y_pred)\n"
      ],
      "execution_count": 0,
      "outputs": []
    },
    {
      "cell_type": "code",
      "metadata": {
        "id": "xB1G04GdpFo-",
        "colab_type": "code",
        "colab": {}
      },
      "source": [
        "def get_cnn_v5(input_shape, num_classes):\n",
        "  return Sequential([\n",
        "    Conv2D(filters=32, kernel_size=(3,3), activation='relu', input_shape=input_shape),\n",
        "    Conv2D(filters=32, kernel_size=(3,3), activation='relu', padding='same'),\n",
        "    Conv2D(filters=32, kernel_size=(3,3), activation='relu',padding='same'),\n",
        "    MaxPool2D(),\n",
        "    Dropout(0.3),\n",
        "\n",
        "    Conv2D(filters=64, kernel_size=(3,3), activation='relu',padding='same'),\n",
        "    Conv2D(filters=64, kernel_size=(3,3), activation='relu',padding='same'),\n",
        "    Conv2D(filters=64, kernel_size=(3,3), activation='relu'),\n",
        "    MaxPool2D(),\n",
        "    Dropout(0.3),\n",
        "\n",
        "    Conv2D(filters=128, kernel_size=(3,3), activation='relu',padding='same'),\n",
        "    Conv2D(filters=128, kernel_size=(3,3), activation='relu',padding='same'),\n",
        "    Conv2D(filters=128, kernel_size=(3,3), activation='relu'),\n",
        "    MaxPool2D(),\n",
        "    Dropout(0.3),\n",
        "\n",
        "    Flatten(),\n",
        "\n",
        "    Dense(1024, activation='relu'),\n",
        "    Dropout(0.3),\n",
        "\n",
        "    Dense(1024, activation='relu'),\n",
        "    Dropout(0.3),\n",
        "\n",
        "    Dense(num_classes, activation='softmax')\n",
        "\n",
        "  ])\n"
      ],
      "execution_count": 0,
      "outputs": []
    },
    {
      "cell_type": "code",
      "metadata": {
        "id": "9O9i284DpIUv",
        "colab_type": "code",
        "colab": {
          "base_uri": "https://localhost:8080/",
          "height": 241
        },
        "outputId": "4a50aa33-e86b-45d7-deab-708fa24eeb8e"
      },
      "source": [
        "model = get_cnn_v5(input_shape, num_classes)\n",
        "model_trained = train_model(model, X_train, y_train)\n",
        "predict(model_trained, X_test, y_test)"
      ],
      "execution_count": 37,
      "outputs": [
        {
          "output_type": "stream",
          "text": [
            "Epoch 1/5\n",
            "  2/272 [..............................] - ETA: 8:32 - loss: 4.8424 - accuracy: 0.0352WARNING:tensorflow:Method (on_train_batch_end) is slow compared to the batch update (1.890453). Check your callbacks.\n",
            "272/272 [==============================] - 10s 35ms/step - loss: 2.1389 - accuracy: 0.3721 - val_loss: 0.6136 - val_accuracy: 0.7998\n",
            "Epoch 2/5\n",
            "272/272 [==============================] - 6s 20ms/step - loss: 0.4880 - accuracy: 0.8440 - val_loss: 0.1216 - val_accuracy: 0.9616\n",
            "Epoch 3/5\n",
            "272/272 [==============================] - 6s 21ms/step - loss: 0.1968 - accuracy: 0.9414 - val_loss: 0.0428 - val_accuracy: 0.9872\n",
            "Epoch 4/5\n",
            "272/272 [==============================] - 6s 21ms/step - loss: 0.1385 - accuracy: 0.9613 - val_loss: 0.0363 - val_accuracy: 0.9903\n",
            "Epoch 5/5\n",
            "272/272 [==============================] - 6s 20ms/step - loss: 0.1006 - accuracy: 0.9721 - val_loss: 0.0301 - val_accuracy: 0.9916\n"
          ],
          "name": "stdout"
        },
        {
          "output_type": "execute_result",
          "data": {
            "text/plain": [
              "0.9739229024943311"
            ]
          },
          "metadata": {
            "tags": []
          },
          "execution_count": 37
        }
      ]
    },
    {
      "cell_type": "code",
      "metadata": {
        "id": "rPzis0HAqc66",
        "colab_type": "code",
        "colab": {
          "base_uri": "https://localhost:8080/",
          "height": 51
        },
        "outputId": "cc97dcda-a766-4c85-bddb-13fa59071b54"
      },
      "source": [
        "model_trained.evaluate(X_test, y_test)"
      ],
      "execution_count": 12,
      "outputs": [
        {
          "output_type": "stream",
          "text": [
            "138/138 [==============================] - 0s 3ms/step - loss: 0.1020 - accuracy: 0.9782\n"
          ],
          "name": "stdout"
        },
        {
          "output_type": "execute_result",
          "data": {
            "text/plain": [
              "[0.10196661949157715, 0.9782313108444214]"
            ]
          },
          "metadata": {
            "tags": []
          },
          "execution_count": 12
        }
      ]
    },
    {
      "cell_type": "code",
      "metadata": {
        "id": "p_dmj8EppsFl",
        "colab_type": "code",
        "colab": {}
      },
      "source": [
        "def func_obj(params):\n",
        "  model = get_cnn_v5(input_shape, num_classes)\n",
        "  model.compile(loss='categorical_crossentropy', optimizer='Adam', metrics=['accuracy'])\n",
        "\n",
        "  model.fit(\n",
        "      X_train,\n",
        "      y_train,\n",
        "      batch_size = int(params.get('batch_size',128)),\n",
        "      epochs = 7,\n",
        "      verbose= 0,\n",
        "      \n",
        "  )\n",
        "\n",
        "  accuracy = model.evaluate(X_test, y_test)[0]\n",
        "  print(params, 'accuracy={}'.format(accuracy))\n",
        "\n",
        "  return {'loss': -accuracy, 'status': STATUS_OK, 'model': model}"
      ],
      "execution_count": 0,
      "outputs": []
    },
    {
      "cell_type": "code",
      "metadata": {
        "id": "pnIFCWWkryXx",
        "colab_type": "code",
        "colab": {}
      },
      "source": [
        "def get_model(params):\n",
        "  return Sequential([\n",
        "    Conv2D(filters=32, kernel_size=(3,3), activation='relu', input_shape=input_shape),\n",
        "    Conv2D(filters=32, kernel_size=(3,3), activation='relu',padding='same'),\n",
        "    MaxPool2D(),\n",
        "    Dropout(params['dropout_cnn_block_one']),\n",
        "\n",
        "    Conv2D(filters=64, kernel_size=(3,3), activation='relu',padding='same'),\n",
        "    Conv2D(filters=64, kernel_size=(3,3), activation='relu'),\n",
        "    MaxPool2D(),\n",
        "    Dropout(params['dropout_cnn_block_two']),\n",
        "\n",
        "    Conv2D(filters=128, kernel_size=(3,3), activation='relu',padding='same'),\n",
        "    Conv2D(filters=128, kernel_size=(3,3), activation='relu'),\n",
        "    MaxPool2D(),\n",
        "    Dropout(params['dropout_cnn_block_three']),\n",
        "\n",
        "    Flatten(),\n",
        "\n",
        "    Dense(1024, activation='relu'),\n",
        "    Dropout(params['dropout_cnn_block_one']),\n",
        "\n",
        "    Dense(1024, activation='relu'),\n",
        "    Dropout(params['dropout_cnn_block_two']),\n",
        "    \n",
        "    Dense(num_classes, activation='softmax')\n",
        "\n",
        "  ])\n"
      ],
      "execution_count": 0,
      "outputs": []
    },
    {
      "cell_type": "code",
      "metadata": {
        "id": "vh8uyauTtjo_",
        "colab_type": "code",
        "colab": {}
      },
      "source": [
        "def func_obj(params):\n",
        "  model = get_model(params)\n",
        "  model.compile(loss='categorical_crossentropy', optimizer='Adam', metrics=['accuracy'])\n",
        "\n",
        "  model.fit(\n",
        "      X_train,\n",
        "      y_train,\n",
        "      batch_size = int(params.get('batch_size',128)),\n",
        "      epochs = 5,\n",
        "      verbose= 0,\n",
        "      \n",
        "  )\n",
        "\n",
        "  score = model.evaluate(X_test, y_test, verbose=0)\n",
        "  accuracy = score[1]\n",
        "  print(params, 'accuracy={}'.format(accuracy))\n",
        "\n",
        "  return {'loss': -accuracy, 'status': STATUS_OK, 'model': model}"
      ],
      "execution_count": 0,
      "outputs": []
    },
    {
      "cell_type": "code",
      "metadata": {
        "id": "GmGhlokKrNCU",
        "colab_type": "code",
        "colab": {
          "base_uri": "https://localhost:8080/",
          "height": 1000
        },
        "outputId": "b3da74ba-d781-477c-de46-4746c55c2167"
      },
      "source": [
        "space = {\n",
        "    'batch_size': hp.quniform('batch_size', 100, 200, 10),\n",
        "    'dropout_cnn_block_one': hp.uniform( 'dropout_cnn_block_one', 0.3, 0.5),\n",
        "    'dropout_cnn_block_two': hp.uniform( 'dropout_cnn_block_two', 0.3, 0.5),\n",
        "    'dropout_cnn_block_three': hp.uniform( 'dropout_cnn_block_three',0.3, 0.5),\n",
        "\n",
        "    'dropout_cnn_block_one': hp.uniform( 'dropout_cnn_block_one', 0.3, 0.7),\n",
        "    'dropout_cnn_block_two': hp.uniform( 'dropout_cnn_block_two', 0.3, 0.7)\n",
        "}\n",
        "\n",
        "best = fmin(\n",
        "    func_obj,\n",
        "    space,\n",
        "    tpe.suggest,\n",
        "    30,\n",
        "    Trials()\n",
        ")"
      ],
      "execution_count": 35,
      "outputs": [
        {
          "output_type": "stream",
          "text": [
            "{'batch_size': 110.0, 'dropout_cnn_block_one': 0.6596775848868139, 'dropout_cnn_block_three': 0.33600360296714415, 'dropout_cnn_block_two': 0.46150987932707715}\n",
            "accuracy=0.4743764102458954\n",
            "{'batch_size': 120.0, 'dropout_cnn_block_one': 0.529144057058019, 'dropout_cnn_block_three': 0.4690490559152958, 'dropout_cnn_block_two': 0.3930361555659154}\n",
            "accuracy=0.7598639726638794\n",
            "{'batch_size': 190.0, 'dropout_cnn_block_one': 0.6651468893744927, 'dropout_cnn_block_three': 0.307503205811779, 'dropout_cnn_block_two': 0.32217433046002747}\n",
            "accuracy=0.8365079164505005\n",
            "{'batch_size': 170.0, 'dropout_cnn_block_one': 0.5694464931133083, 'dropout_cnn_block_three': 0.4757102999725142, 'dropout_cnn_block_two': 0.4933200678112893}\n",
            "accuracy=0.4680272042751312\n",
            "{'batch_size': 110.0, 'dropout_cnn_block_one': 0.4583235073991032, 'dropout_cnn_block_three': 0.4867548579557926, 'dropout_cnn_block_two': 0.3013556816332848}\n",
            "accuracy=0.9662131667137146\n",
            "{'batch_size': 120.0, 'dropout_cnn_block_one': 0.3807669685555432, 'dropout_cnn_block_three': 0.34998822428866916, 'dropout_cnn_block_two': 0.4138146898648829}\n",
            "accuracy=0.940816342830658\n",
            "{'batch_size': 190.0, 'dropout_cnn_block_one': 0.5115208741272729, 'dropout_cnn_block_three': 0.3298860435333264, 'dropout_cnn_block_two': 0.5698159260312996}\n",
            "accuracy=0.803628146648407\n",
            "{'batch_size': 110.0, 'dropout_cnn_block_one': 0.5295054925576559, 'dropout_cnn_block_three': 0.34301486418315075, 'dropout_cnn_block_two': 0.4773545931713593}\n",
            "accuracy=0.8893424272537231\n",
            "{'batch_size': 170.0, 'dropout_cnn_block_one': 0.5290196995386667, 'dropout_cnn_block_three': 0.332982835575476, 'dropout_cnn_block_two': 0.4985750869698482}\n",
            "accuracy=0.684353768825531\n",
            "{'batch_size': 150.0, 'dropout_cnn_block_one': 0.489715877179856, 'dropout_cnn_block_three': 0.3106455670094916, 'dropout_cnn_block_two': 0.649044762670966}\n",
            "accuracy=0.7712017893791199\n",
            "{'batch_size': 190.0, 'dropout_cnn_block_one': 0.6432157477495379, 'dropout_cnn_block_three': 0.396747410930804, 'dropout_cnn_block_two': 0.489789944700583}\n",
            "accuracy=0.5473923087120056\n",
            "{'batch_size': 160.0, 'dropout_cnn_block_one': 0.6887247632940203, 'dropout_cnn_block_three': 0.4949112231553122, 'dropout_cnn_block_two': 0.57515789941494}\n",
            "accuracy=0.33560091257095337\n",
            "{'batch_size': 150.0, 'dropout_cnn_block_one': 0.4328044669575122, 'dropout_cnn_block_three': 0.3371215121958515, 'dropout_cnn_block_two': 0.6005576200299383}\n",
            "accuracy=0.7467120289802551\n",
            "{'batch_size': 120.0, 'dropout_cnn_block_one': 0.6669933651177316, 'dropout_cnn_block_three': 0.4054448868011623, 'dropout_cnn_block_two': 0.6192002255988593}\n",
            "accuracy=0.5863945484161377\n",
            "{'batch_size': 130.0, 'dropout_cnn_block_one': 0.5902892282432755, 'dropout_cnn_block_three': 0.4508300232515948, 'dropout_cnn_block_two': 0.6903253833350287}\n",
            "accuracy=0.3113378584384918\n",
            "{'batch_size': 150.0, 'dropout_cnn_block_one': 0.594046267893866, 'dropout_cnn_block_three': 0.387080186022025, 'dropout_cnn_block_two': 0.49227664128116333}\n",
            "accuracy=0.718367338180542\n",
            "{'batch_size': 180.0, 'dropout_cnn_block_one': 0.6224304903461406, 'dropout_cnn_block_three': 0.4340394088966235, 'dropout_cnn_block_two': 0.49250233048777936}\n",
            "accuracy=0.45283445715904236\n",
            "{'batch_size': 120.0, 'dropout_cnn_block_one': 0.3482810131902023, 'dropout_cnn_block_three': 0.47969737169710225, 'dropout_cnn_block_two': 0.6011262526897976}\n",
            "accuracy=0.89682537317276\n",
            "{'batch_size': 150.0, 'dropout_cnn_block_one': 0.56964235456707, 'dropout_cnn_block_three': 0.3136255922510363, 'dropout_cnn_block_two': 0.40066641440478473}\n",
            "accuracy=0.9190475940704346\n",
            "{'batch_size': 100.0, 'dropout_cnn_block_one': 0.6701980249117008, 'dropout_cnn_block_three': 0.45810999975112093, 'dropout_cnn_block_two': 0.6710603668766366}\n",
            "accuracy=0.33197277784347534\n",
            "{'batch_size': 130.0, 'dropout_cnn_block_one': 0.3526404678855238, 'dropout_cnn_block_three': 0.3676485426511764, 'dropout_cnn_block_two': 0.30472654438389296}\n",
            "accuracy=0.9712018370628357\n",
            "{'batch_size': 140.0, 'dropout_cnn_block_one': 0.3116240724917576, 'dropout_cnn_block_three': 0.37123248812122606, 'dropout_cnn_block_two': 0.3049421807747192}\n",
            "accuracy=0.9607709646224976\n",
            "{'batch_size': 100.0, 'dropout_cnn_block_one': 0.42655139495310923, 'dropout_cnn_block_three': 0.4148526406000856, 'dropout_cnn_block_two': 0.34609751169968156}\n",
            "accuracy=0.9253968000411987\n",
            "{'batch_size': 130.0, 'dropout_cnn_block_one': 0.44795780646859207, 'dropout_cnn_block_three': 0.3666211059814344, 'dropout_cnn_block_two': 0.3657308929596634}\n",
            "accuracy=0.9678004384040833\n",
            "{'batch_size': 140.0, 'dropout_cnn_block_one': 0.37554624973586104, 'dropout_cnn_block_three': 0.36449218949159534, 'dropout_cnn_block_two': 0.3527918789215373}\n",
            "accuracy=0.9510204195976257\n",
            "{'batch_size': 130.0, 'dropout_cnn_block_one': 0.3012909746818616, 'dropout_cnn_block_three': 0.37454453736327076, 'dropout_cnn_block_two': 0.4379252704250537}\n",
            "accuracy=0.9616780281066895\n",
            "{'batch_size': 130.0, 'dropout_cnn_block_one': 0.35317653420179435, 'dropout_cnn_block_three': 0.42262225523839697, 'dropout_cnn_block_two': 0.34140318791186663}\n",
            "accuracy=0.9360544085502625\n",
            "{'batch_size': 140.0, 'dropout_cnn_block_one': 0.4238983417817073, 'dropout_cnn_block_three': 0.3551609329372177, 'dropout_cnn_block_two': 0.5354917125902303}\n",
            "accuracy=0.8766440153121948\n",
            "{'batch_size': 160.0, 'dropout_cnn_block_one': 0.4690702347180597, 'dropout_cnn_block_three': 0.3844821632588015, 'dropout_cnn_block_two': 0.37356237486486027}\n",
            "accuracy=0.9412698149681091\n",
            "{'batch_size': 130.0, 'dropout_cnn_block_one': 0.39359544660891266, 'dropout_cnn_block_three': 0.3208222638988013, 'dropout_cnn_block_two': 0.4461669898717286}\n",
            "accuracy=0.9428571462631226\n",
            "100%|██████████| 30/30 [05:55<00:00, 11.83s/it, best loss: -0.9712018370628357]\n"
          ],
          "name": "stdout"
        }
      ]
    },
    {
      "cell_type": "code",
      "metadata": {
        "id": "EP9krv0lttQs",
        "colab_type": "code",
        "colab": {}
      },
      "source": [
        ""
      ],
      "execution_count": 0,
      "outputs": []
    }
  ]
}